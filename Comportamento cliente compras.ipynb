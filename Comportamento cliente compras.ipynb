{
 "cells": [
  {
   "cell_type": "code",
   "execution_count": null,
   "id": "60d8cddf",
   "metadata": {},
   "outputs": [],
   "source": [
    "import pandas as pd\n",
    "import plotly.express as px\n",
    "import plotly.graph_objects as go\n",
    "from plotly.subplots import make_subplots\n",
    "import plotly.io as pio\n",
    "pio.templates.default = \"plotly_white\"\n",
    "import matplotlib.pyplot as plt\n",
    "import seaborn as sns"
   ]
  },
  {
   "cell_type": "code",
   "execution_count": null,
   "id": "99f645cf",
   "metadata": {},
   "outputs": [],
   "source": [
    "df = pd.read_csv('ecommerce_customer_data.csv')\n",
    "df\n",
    "                       \n",
    "    "
   ]
  },
  {
   "cell_type": "code",
   "execution_count": null,
   "id": "5ae25806",
   "metadata": {},
   "outputs": [],
   "source": [
    "df = df.rename(columns={\n",
    "    'User_ID': 'ID do Usuário',\n",
    "    'Gender': 'Gênero',\n",
    "    'Age': 'Idade',\n",
    "    'Location': 'Localização',\n",
    "    'Device_Type': 'Tipo de Dispositivo',\n",
    "    'Product_Browsing_Time': 'Tempo de Navegação do Produto',\n",
    "    'Total_Pages_Viewed': 'Total de Páginas Visualizadas',\n",
    "    'Items_Added_to_Cart': 'Itens Adicionados ao Carrinho',\n",
    "    'Total_Purchases': 'Total de Compras - Usuário'\n",
    "})\n",
    "\n",
    "df.set_index('ID do Usuário')\n",
    "\n",
    "df"
   ]
  },
  {
   "cell_type": "code",
   "execution_count": null,
   "id": "a7ae9019",
   "metadata": {},
   "outputs": [],
   "source": [
    "df.shape"
   ]
  },
  {
   "cell_type": "code",
   "execution_count": null,
   "id": "e9583b85",
   "metadata": {},
   "outputs": [],
   "source": [
    "df.info()"
   ]
  },
  {
   "cell_type": "code",
   "execution_count": null,
   "id": "feb34f1c",
   "metadata": {},
   "outputs": [],
   "source": [
    "# Lista das colunas numéricas e categóricas\n",
    "colunas_numericas = ['Idade', 'Tempo de Navegação do Produto', 'Total de Páginas Visualizadas', 'Itens Adicionados ao Carrinho', 'Total de Compras - Usuário']\n",
    "colunas_categoricas = ['Gênero', 'Localização', 'Tipo de Dispositivo']\n",
    "\n",
    "# Criar DataFrames separados para colunas categóricas e numéricas\n",
    "df_numericas = df[colunas_numericas]\n",
    "df_categoricas = df[colunas_categoricas]\n",
    "\n",
    "\n",
    "df_numericas.head()\n",
    "\n",
    "\n",
    "\n",
    "\n"
   ]
  },
  {
   "cell_type": "code",
   "execution_count": null,
   "id": "ae34b97b",
   "metadata": {},
   "outputs": [],
   "source": [
    "df_categoricas.head()"
   ]
  },
  {
   "cell_type": "code",
   "execution_count": null,
   "id": "3c89027e",
   "metadata": {},
   "outputs": [],
   "source": [
    "df_numericas.describe()"
   ]
  },
  {
   "cell_type": "code",
   "execution_count": null,
   "id": "e6ef4314",
   "metadata": {},
   "outputs": [],
   "source": [
    "# Configurações de estilo\n",
    "sns.set(style=\"whitegrid\")\n",
    "\n",
    "# Plotar histograma da distribuição de idade\n",
    "plt.figure(figsize=(10, 6))\n",
    "sns.histplot(df['Idade'], bins=20, kde=True, color='skyblue')\n",
    "plt.title('Distribuição de Idade dos Usuários')\n",
    "plt.xlabel('Idade')\n",
    "plt.ylabel('Contagem')\n",
    "plt.show()"
   ]
  },
  {
   "cell_type": "code",
   "execution_count": null,
   "id": "f3313af6",
   "metadata": {},
   "outputs": [],
   "source": [
    "# Plotar gráfico de barras empilhadas da distribuição da idade por gênero\n",
    "plt.figure(figsize=(10, 6))\n",
    "sns.histplot(data=df, x='Idade', hue='Gênero', multiple='stack', palette='pastel')\n",
    "plt.title('Distribuição da Idade por Gênero')\n",
    "plt.xlabel('Idade')\n",
    "plt.ylabel('Contagem')\n",
    "plt.legend(title='Gênero')\n",
    "plt.show()"
   ]
  },
  {
   "cell_type": "code",
   "execution_count": null,
   "id": "5ca8b7c3",
   "metadata": {},
   "outputs": [],
   "source": [
    "# Calcular a média da idade para cada gênero\n",
    "idade_por_genero = df.groupby('Gênero')['Idade'].mean()\n",
    "\n",
    "# Encontrar o gênero com a maior idade média\n",
    "genero_maior_idade = idade_por_genero.idxmax()\n",
    "idade_media_maxima = idade_por_genero.max()\n",
    "\n",
    "print(f\"O gênero com a maior idade média é '{genero_maior_idade}' com uma idade média de {idade_media_maxima:.2f} anos.\")"
   ]
  },
  {
   "cell_type": "code",
   "execution_count": null,
   "id": "ed680885",
   "metadata": {},
   "outputs": [],
   "source": [
    "# Calcular a média da idade para o sexo feminino\n",
    "media_idade_feminino = df['Idade'].mean()\n",
    "\n",
    "print(f\"A média da idade para o sexo feminino é: {media_idade_feminino:.2f} anos.\")"
   ]
  },
  {
   "cell_type": "code",
   "execution_count": null,
   "id": "426f3324",
   "metadata": {},
   "outputs": [],
   "source": [
    "# Contagem de usuários por gênero\n",
    "contagem_genero = df['Gênero'].value_counts()\n",
    "\n",
    "# Plotar gráfico de barras da distribuição por gênero\n",
    "plt.figure(figsize=(8, 6))\n",
    "sns.barplot(x=contagem_genero.index, y=contagem_genero.values, palette='pastel')\n",
    "plt.title('Distribuição por Gênero')\n",
    "plt.xlabel('Gênero')\n",
    "plt.ylabel('Contagem de Usuários')\n",
    "plt.show()"
   ]
  },
  {
   "cell_type": "code",
   "execution_count": null,
   "id": "e5278d4e",
   "metadata": {},
   "outputs": [],
   "source": [
    "# Plotar violin plot da distribuição do tempo de navegação do produto por sexo e idade\n",
    "plt.figure(figsize=(12, 8))\n",
    "sns.violinplot(data=df, x='Gênero', y='Tempo de Navegação do Produto', hue='Idade', inner='quartile', palette='muted')\n",
    "plt.title('Distribuição do Tempo de Navegação do Produto por Sexo e Idade')\n",
    "plt.xlabel('Gênero')\n",
    "plt.ylabel('Tempo de Navegação do Produto (minutos)')\n",
    "plt.legend(title='Idade')\n",
    "plt.show()\n",
    "\n"
   ]
  },
  {
   "cell_type": "code",
   "execution_count": null,
   "id": "8bfe6772",
   "metadata": {},
   "outputs": [],
   "source": [
    "# Plotar histograma da distribuição do total de páginas visualizadas\n",
    "plt.figure(figsize=(10, 6))\n",
    "sns.histplot(df['Total de Páginas Visualizadas'], bins=20, kde=True, color='salmon')\n",
    "plt.title('Distribuição do Total de Páginas Visualizadas')\n",
    "plt.xlabel('Total de Páginas Visualizadas')\n",
    "plt.ylabel('Contagem')\n",
    "plt.show()"
   ]
  },
  {
   "cell_type": "code",
   "execution_count": null,
   "id": "121dc757",
   "metadata": {},
   "outputs": [],
   "source": [
    "# Criar um FacetGrid com Seaborn\n",
    "g = sns.FacetGrid(df, col='Gênero', hue='Idade', col_wrap=2, height=6)\n",
    "\n",
    "# Mapear o histograma para cada subplot\n",
    "g.map(sns.histplot, 'Total de Páginas Visualizadas', bins=20, kde=True)\n",
    "\n",
    "# Adicionar título para cada subplot\n",
    "g.set_titles('{col_name}')\n",
    "\n",
    "# Adicionar título geral\n",
    "plt.subplots_adjust(top=0.9)\n",
    "g.fig.suptitle('Distribuição do Total de Páginas Visualizadas por Sexo e Idade', fontsize=16)\n",
    "\n",
    "# Exibir os subplots\n",
    "plt.show()\n"
   ]
  },
  {
   "cell_type": "code",
   "execution_count": null,
   "id": "485a7b11",
   "metadata": {},
   "outputs": [],
   "source": [
    "# Plotar histograma da distribuição de itens adicionados ao carrinho\n",
    "plt.figure(figsize=(10, 6))\n",
    "sns.histplot(df['Itens Adicionados ao Carrinho'], bins=20, kde=True, color='lightgreen')\n",
    "plt.title('Distribuição de Itens Adicionados ao Carrinho')\n",
    "plt.xlabel('Itens Adicionados ao Carrinho')\n",
    "plt.ylabel('Contagem')\n",
    "plt.show()\n"
   ]
  },
  {
   "cell_type": "code",
   "execution_count": null,
   "id": "05be950d",
   "metadata": {},
   "outputs": [],
   "source": [
    "# Criar um FacetGrid com Seaborn\n",
    "g = sns.FacetGrid(df, col='Gênero', hue='Idade', col_wrap=2, height=6)\n",
    "\n",
    "# Mapear o histograma para cada subplot\n",
    "g.map(sns.histplot, 'Itens Adicionados ao Carrinho', bins=20, kde=True)\n",
    "\n",
    "# Adicionar título para cada subplot\n",
    "g.set_titles('{col_name}')\n",
    "\n",
    "# Adicionar título geral\n",
    "plt.subplots_adjust(top=0.9)\n",
    "g.fig.suptitle('Distribuição de Itens Adicionados ao Carrinho por Sexo e Idade', fontsize=16)\n",
    "\n",
    "# Exibir os subplots\n",
    "plt.show()\n"
   ]
  },
  {
   "cell_type": "code",
   "execution_count": null,
   "id": "37120554",
   "metadata": {},
   "outputs": [],
   "source": [
    "import matplotlib.pyplot as plt\n",
    "import seaborn as sns\n",
    "\n",
    "# Configurações de estilo\n",
    "sns.set(style=\"whitegrid\")\n",
    "\n",
    "# Plotar histograma da distribuição do total de compras por usuário\n",
    "plt.figure(figsize=(10, 6))\n",
    "sns.histplot(df['Total de Compras - Usuário'], bins=20, kde=True, color='purple')\n",
    "plt.title('Distribuição do Total de Compras por Usuário')\n",
    "plt.xlabel('Total de Compras')\n",
    "plt.ylabel('Contagem')\n",
    "plt.show()\n"
   ]
  },
  {
   "cell_type": "code",
   "execution_count": null,
   "id": "a6cab665",
   "metadata": {},
   "outputs": [],
   "source": [
    "# Plotar gráfico de densidade da distribuição do total de compras por usuário\n",
    "plt.figure(figsize=(10, 6))\n",
    "sns.kdeplot(df['Total de Compras - Usuário'], color='purple', fill=True)\n",
    "plt.title('Distribuição do Total de Compras por Usuário')\n",
    "plt.xlabel('Total de Compras')\n",
    "plt.ylabel('Densidade')\n",
    "plt.show()\n"
   ]
  },
  {
   "cell_type": "code",
   "execution_count": null,
   "id": "54305b48",
   "metadata": {},
   "outputs": [],
   "source": [
    "# Plotar gráfico de violino da distribuição do total de compras por usuário por sexo e idade\n",
    "plt.figure(figsize=(12, 8))\n",
    "sns.violinplot(data=df, x='Gênero', y='Total de Compras - Usuário', hue='Idade', inner='quartile', palette='muted')\n",
    "plt.title('Distribuição do Total de Compras por Usuário por Sexo e Idade')\n",
    "plt.xlabel('Gênero')\n",
    "plt.ylabel('Total de Compras')\n",
    "plt.legend(title='Idade')\n",
    "plt.show()\n"
   ]
  },
  {
   "cell_type": "code",
   "execution_count": null,
   "id": "36c792d5",
   "metadata": {},
   "outputs": [],
   "source": [
    "# Plotar gráfico de caixas da distribuição do total de compras por usuário por sexo e idade\n",
    "plt.figure(figsize=(12, 8))\n",
    "sns.boxplot(data=df, x='Gênero', y='Total de Compras - Usuário', hue='Idade', palette='muted')\n",
    "plt.title('Distribuição do Total de Compras por Usuário por Sexo e Idade')\n",
    "plt.xlabel('Gênero')\n",
    "plt.ylabel('Total de Compras')\n",
    "plt.legend(title='Idade')\n",
    "plt.show()\n"
   ]
  },
  {
   "cell_type": "code",
   "execution_count": null,
   "id": "2c6cda36",
   "metadata": {},
   "outputs": [],
   "source": [
    "# Calcular o total de páginas visualizadas e total de compras para cada usuário\n",
    "df['Total_Paginas'] = df['Total de Páginas Visualizadas']\n",
    "df['Total_Compras'] = df['Total de Compras - Usuário']\n",
    "\n",
    "# Agrupar os usuários por faixa etária e sexo e calcular a soma do total de páginas visualizadas e total de compras\n",
    "grupo_usuario = df.groupby(['Gênero', 'Idade']).agg({'Total_Paginas': 'sum', 'Total_Compras': 'sum'}).reset_index()\n",
    "\n",
    "# Encontrar os grupos com os maiores valores de navegação e compras\n",
    "mais_navegacao = grupo_usuario.loc[grupo_usuario['Total_Paginas'].idxmax()]\n",
    "mais_compras = grupo_usuario.loc[grupo_usuario['Total_Compras'].idxmax()]\n",
    "\n",
    "print(\"Faixa etária e sexo dos que mais navegam:\")\n",
    "print(mais_navegacao)\n",
    "\n",
    "print(\"\\nFaixa etária e sexo dos que mais efetuam compras:\")\n",
    "print(mais_compras)\n"
   ]
  },
  {
   "cell_type": "code",
   "execution_count": null,
   "id": "431491d6",
   "metadata": {},
   "outputs": [],
   "source": [
    "import matplotlib.pyplot as plt\n",
    "import seaborn as sns\n",
    "\n",
    "# Agrupar os usuários por faixa etária e sexo e calcular a soma do total de páginas visualizadas e total de compras\n",
    "grupo_usuario = df.groupby(['Gênero', 'Idade']).agg({'Total_Paginas': 'sum', 'Total_Compras': 'sum'}).reset_index()\n",
    "\n",
    "# Plotar gráfico de barras para total de páginas visualizadas\n",
    "plt.figure(figsize=(12, 6))\n",
    "sns.barplot(data=grupo_usuario, x='Idade', y='Total_Paginas', hue='Gênero', palette='muted')\n",
    "plt.title('Total de Páginas Visualizadas por Faixa Etária e Sexo')\n",
    "plt.xlabel('Faixa Etária')\n",
    "plt.ylabel('Total de Páginas Visualizadas')\n",
    "plt.legend(title='Gênero')\n",
    "plt.show()\n",
    "\n",
    "# Plotar gráfico de barras para total de compras\n",
    "plt.figure(figsize=(12, 6))\n",
    "sns.barplot(data=grupo_usuario, x='Idade', y='Total_Compras', hue='Gênero', palette='muted')\n",
    "plt.title('Total de Compras por Faixa Etária e Sexo')\n",
    "plt.xlabel('Faixa Etária')\n",
    "plt.ylabel('Total de Compras')\n",
    "plt.legend(title='Gênero')\n",
    "plt.show()\n"
   ]
  },
  {
   "cell_type": "code",
   "execution_count": null,
   "id": "541f8e74",
   "metadata": {},
   "outputs": [],
   "source": [
    "# Configurações de estilo\n",
    "sns.set(style=\"whitegrid\")\n",
    "\n",
    "# Plotar gráfico de barras comparando o tempo de navegação do produto por gênero\n",
    "plt.figure(figsize=(10, 6))\n",
    "sns.barplot(data=df, x='Gênero', y='Tempo de Navegação do Produto', palette='muted')\n",
    "plt.title('Tempo de Navegação do Produto por Gênero')\n",
    "plt.xlabel('Gênero')\n",
    "plt.ylabel('Tempo de Navegação do Produto (minutos)')\n",
    "plt.show()\n",
    "\n",
    "# Plotar boxplot comparando o total de páginas visualizadas por gênero\n",
    "plt.figure(figsize=(10, 6))\n",
    "sns.boxplot(data=df, x='Gênero', y='Total de Páginas Visualizadas', palette='muted')\n",
    "plt.title('Total de Páginas Visualizadas por Gênero')\n",
    "plt.xlabel('Gênero')\n",
    "plt.ylabel('Total de Páginas Visualizadas')\n",
    "plt.show()\n",
    "\n",
    "# Plotar gráfico de violino comparando o número de itens adicionados ao carrinho por gênero\n",
    "plt.figure(figsize=(10, 6))\n",
    "sns.violinplot(data=df, x='Gênero', y='Itens Adicionados ao Carrinho', palette='muted')\n",
    "plt.title('Itens Adicionados ao Carrinho por Gênero')\n",
    "plt.xlabel('Gênero')\n",
    "plt.ylabel('Itens Adicionados ao Carrinho')\n",
    "plt.show()"
   ]
  },
  {
   "cell_type": "code",
   "execution_count": null,
   "id": "544eb249",
   "metadata": {},
   "outputs": [],
   "source": [
    "import scipy.stats as stats\n",
    "\n",
    "# Separar os dados de compras por gênero\n",
    "compras_homem = df[df['Gênero'] == 'Masculino']['Total de Compras - Usuário']\n",
    "compras_mulher = df[df['Gênero'] == 'Feminino']['Total de Compras - Usuário']\n",
    "\n",
    "# Realizar o teste t de Student para comparar as médias das compras entre homens e mulheres\n",
    "t_statistic, p_value = stats.ttest_ind(compras_homem, compras_mulher)\n",
    "\n",
    "# Imprimir o resultado do teste\n",
    "print(\"Resultado do teste t de Student:\")\n",
    "print(f\"Estatística t: {t_statistic}\")\n",
    "print(f\"Valor p: {p_value}\")\n",
    "\n",
    "# Plotar a distribuição das compras por gênero\n",
    "plt.figure(figsize=(10, 6))\n",
    "sns.histplot(df, x='Total de Compras - Usuário', hue='Gênero', kde=True, palette='muted')\n",
    "plt.title('Distribuição do Total de Compras por Gênero')\n",
    "plt.xlabel('Total de Compras')\n",
    "plt.ylabel('Contagem')\n",
    "plt.legend(title='Gênero')\n",
    "plt.show()\n"
   ]
  },
  {
   "cell_type": "code",
   "execution_count": null,
   "id": "e043f954",
   "metadata": {},
   "outputs": [],
   "source": [
    "# Agrupar os dados por localização geográfica e calcular métricas de interesse\n",
    "grupo_localizacao = df.groupby('Localização').agg({\n",
    "    'Tempo de Navegação do Produto': 'mean',\n",
    "    'Total de Páginas Visualizadas': 'mean',\n",
    "    'Total de Compras - Usuário': 'sum'\n",
    "}).reset_index()\n",
    "\n",
    "# Plotar gráficos para avaliar o comportamento de navegação e padrões de compra por localização geográfica\n",
    "plt.figure(figsize=(12, 8))\n",
    "\n",
    "# Gráfico de barras para tempo médio de navegação do produto por localização\n",
    "plt.subplot(2, 2, 1)\n",
    "sns.barplot(data=grupo_localizacao, x='Localização', y='Tempo de Navegação do Produto', palette='muted')\n",
    "plt.title('Tempo Médio de Navegação do Produto por Localização')\n",
    "plt.xlabel('Localização')\n",
    "plt.ylabel('Tempo de Navegação do Produto (minutos)')\n",
    "\n",
    "# Gráfico de barras para média de páginas visualizadas por localização\n",
    "plt.subplot(2, 2, 2)\n",
    "sns.barplot(data=grupo_localizacao, x='Localização', y='Total de Páginas Visualizadas', palette='muted')\n",
    "plt.title('Média de Páginas Visualizadas por Localização')\n",
    "plt.xlabel('Localização')\n",
    "plt.ylabel('Total de Páginas Visualizadas')\n",
    "\n",
    "# Gráfico de barras para total de compras por localização\n",
    "plt.subplot(2, 1, 2)\n",
    "sns.barplot(data=grupo_localizacao, x='Localização', y='Total de Compras - Usuário', palette='muted')\n",
    "plt.title('Total de Compras por Localização')\n",
    "plt.xlabel('Localização')\n",
    "plt.ylabel('Total de Compras')\n",
    "\n",
    "plt.tight_layout()\n",
    "plt.show()\n"
   ]
  },
  {
   "cell_type": "code",
   "execution_count": null,
   "id": "153d511f",
   "metadata": {},
   "outputs": [],
   "source": [
    "# Agrupar os dados por tipo de dispositivo e calcular métricas de interesse\n",
    "grupo_dispositivo = df.groupby('Tipo de Dispositivo').agg({\n",
    "    'Tempo de Navegação do Produto': 'mean',\n",
    "    'Total de Páginas Visualizadas': 'mean',\n",
    "    'Total de Compras - Usuário': 'sum'\n",
    "}).reset_index()\n",
    "\n",
    "# Plotar gráficos para comparar o comportamento de navegação e padrões de compra por tipo de dispositivo\n",
    "plt.figure(figsize=(12, 8))\n",
    "\n",
    "# Gráfico de barras para tempo médio de navegação do produto por tipo de dispositivo\n",
    "plt.subplot(2, 2, 1)\n",
    "sns.barplot(data=grupo_dispositivo, x='Tipo de Dispositivo', y='Tempo de Navegação do Produto', palette='muted')\n",
    "plt.title('Tempo Médio de Navegação do Produto por Tipo de Dispositivo')\n",
    "plt.xlabel('Tipo de Dispositivo')\n",
    "plt.ylabel('Tempo de Navegação do Produto (minutos)')\n",
    "\n",
    "# Gráfico de barras para média de páginas visualizadas por tipo de dispositivo\n",
    "plt.subplot(2, 2, 2)\n",
    "sns.barplot(data=grupo_dispositivo, x='Tipo de Dispositivo', y='Total de Páginas Visualizadas', palette='muted')\n",
    "plt.title('Média de Páginas Visualizadas por Tipo de Dispositivo')\n",
    "plt.xlabel('Tipo de Dispositivo')\n",
    "plt.ylabel('Total de Páginas Visualizadas')\n",
    "\n",
    "# Gráfico de barras para total de compras por tipo de dispositivo\n",
    "plt.subplot(2, 1, 2)\n",
    "sns.barplot(data=grupo_dispositivo, x='Tipo de Dispositivo', y='Total de Compras - Usuário', palette='muted')\n",
    "plt.title('Total de Compras por Tipo de Dispositivo')\n",
    "plt.xlabel('Tipo de Dispositivo')\n",
    "plt.ylabel('Total de Compras')\n",
    "\n",
    "plt.tight_layout()\n",
    "plt.show()\n"
   ]
  },
  {
   "cell_type": "code",
   "execution_count": null,
   "id": "1b9e148b",
   "metadata": {},
   "outputs": [],
   "source": [
    "# Calcular a matriz de correlação\n",
    "correlacao = df[['Idade', 'Total de Compras - Usuário', 'Tempo de Navegação do Produto', 'Total de Páginas Visualizadas', 'Itens Adicionados ao Carrinho']].corr()\n",
    "\n",
    "# Plotar heatmap da matriz de correlação\n",
    "plt.figure(figsize=(10, 8))\n",
    "sns.heatmap(correlacao, annot=True, cmap='coolwarm', fmt=\".2f\", vmin=-1, vmax=1)\n",
    "plt.title('Matriz de Correlação')\n",
    "plt.show()\n"
   ]
  },
  {
   "cell_type": "code",
   "execution_count": null,
   "id": "ca76fed6",
   "metadata": {
    "scrolled": false
   },
   "outputs": [],
   "source": [
    "# Calcular o CLV para cada cliente (soma do Total de Compras - Usuário)\n",
    "clv_por_cliente = df.groupby('ID do Usuário')['Total de Compras - Usuário'].sum().reset_index()\n",
    "clv_por_cliente.columns = ['ID do Usuário', 'CLV']\n"
   ]
  },
  {
   "cell_type": "code",
   "execution_count": null,
   "id": "feb66a8a",
   "metadata": {},
   "outputs": [],
   "source": [
    "# Segmentar os clientes em grupos com base no CLV\n",
    "clv_por_cliente['Segmento'] = pd.qcut(clv_por_cliente['CLV'], q=4, labels=['Baixo', 'Médio-Baixo', 'Médio-Alto', 'Alto'])\n"
   ]
  },
  {
   "cell_type": "code",
   "execution_count": null,
   "id": "68a28f18",
   "metadata": {},
   "outputs": [],
   "source": [
    "# Contar o número de clientes em cada segmento\n",
    "contagem_segmentos = clv_por_cliente['Segmento'].value_counts().reset_index()\n",
    "contagem_segmentos.columns = ['Segmento', 'Número de Clientes']\n",
    "\n",
    "# Plotar gráfico de barras\n",
    "plt.figure(figsize=(10, 6))\n",
    "sns.barplot(data=contagem_segmentos, x='Segmento', y='Número de Clientes', palette='viridis')\n",
    "plt.title('Segmentos de Clientes com Base no Valor da Vida Útil do Cliente (CLV)')\n",
    "plt.xlabel('Segmento')\n",
    "plt.ylabel('Número de Clientes')\n",
    "plt.show()\n"
   ]
  },
  {
   "cell_type": "code",
   "execution_count": null,
   "id": "1f919d97",
   "metadata": {},
   "outputs": [],
   "source": [
    "# Obter o número total de usuários\n",
    "total_usuarios = len(df)\n",
    "\n",
    "# Calcular a taxa de conversão para cada etapa do funil de conversão\n",
    "taxa_visitas = len(df) / total_usuarios * 100\n",
    "taxa_visualizacao_produtos = len(df[df['Total de Páginas Visualizadas'] > 0]) / total_usuarios * 100\n",
    "taxa_adicao_carrinho = len(df[df['Itens Adicionados ao Carrinho'] > 0]) / total_usuarios * 100\n"
   ]
  },
  {
   "cell_type": "code",
   "execution_count": null,
   "id": "c43e354e",
   "metadata": {},
   "outputs": [],
   "source": [
    "# Calcular a taxa de conversão para cada etapa do funil de conversão\n",
    "taxa_visitas = len(df) / total_usuarios * 100\n",
    "taxa_visualizacao_produtos = len(df[df['Total de Páginas Visualizadas'] > 0]) / total_usuarios * 100\n",
    "taxa_adicao_carrinho = len(df[df['Itens Adicionados ao Carrinho'] > 0]) / total_usuarios * 100\n",
    "taxa_compra = len(df[df['Total de Compras - Usuário'] > 0]) / total_usuarios * 100\n",
    "\n",
    "# Criar um DataFrame com as taxas de conversão\n",
    "funil_conversao = pd.DataFrame({\n",
    "    'Etapa do Funil': ['Visitas ao Site', 'Visualização de Produtos', 'Adição ao Carrinho', 'Compra'],\n",
    "    'Taxa de Conversão (%)': [taxa_visitas, taxa_visualizacao_produtos, taxa_adicao_carrinho, taxa_compra]\n",
    "})\n",
    "\n",
    "# Plotar um gráfico de barras para visualizar o funil de conversão\n",
    "plt.figure(figsize=(10, 6))\n",
    "sns.barplot(data=funil_conversao, x='Etapa do Funil', y='Taxa de Conversão (%)', palette='viridis')\n",
    "plt.title('Funil de Conversão dos Clientes')\n",
    "plt.xlabel('Etapa do Funil')\n",
    "plt.ylabel('Taxa de Conversão (%)')\n",
    "plt.xticks(rotation=45)\n",
    "plt.show()\n"
   ]
  },
  {
   "cell_type": "code",
   "execution_count": null,
   "id": "6586906d",
   "metadata": {},
   "outputs": [],
   "source": [
    "# Calcular a taxa de rotatividade dos clientes (churn rate)\n",
    "total_clientes_ativos_inicial = len(df['ID do Usuário'].unique())\n",
    "total_clientes_ativos_final = len(df[df['Total de Compras - Usuário'] > 0]['ID do Usuário'].unique())\n",
    "\n",
    "churn_rate = (total_clientes_ativos_inicial - total_clientes_ativos_final) / total_clientes_ativos_inicial * 100\n",
    "\n",
    "print(\"Taxa de Rotatividade dos Clientes (Churn Rate): {:.2f}%\".format(churn_rate))\n"
   ]
  },
  {
   "cell_type": "code",
   "execution_count": null,
   "id": "95650182",
   "metadata": {},
   "outputs": [],
   "source": []
  },
  {
   "cell_type": "code",
   "execution_count": null,
   "id": "f8f6a305",
   "metadata": {},
   "outputs": [],
   "source": [
    "df.columns"
   ]
  },
  {
   "cell_type": "code",
   "execution_count": null,
   "id": "1b2201c9",
   "metadata": {},
   "outputs": [],
   "source": [
    "# Calcular o total de usuários únicos\n",
    "total_usuarios = df['Idade'].nunique()\n",
    "\n",
    "# Calcular o total de compras por gênero\n",
    "total_compras_genero = df.groupby('Idade')['Total de Compras - Usuário'].sum()\n",
    "\n",
    "# Calcular a taxa de conversão por gênero\n",
    "taxa_conversao_genero = (total_compras_genero / total_usuarios) * 100\n",
    "\n",
    "# Visualizar a taxa de conversão por gênero\n",
    "plt.figure(figsize=(10, 6))\n",
    "sns.barplot(x=taxa_conversao_genero.index, y=taxa_conversao_genero.values)\n",
    "plt.title('Taxa de Conversão por Idade')\n",
    "plt.xlabel('Idade')\n",
    "plt.ylabel('Taxa de Conversão (%)')\n",
    "plt.show()\n",
    "\n",
    "# Calcular a taxa de conversão média\n",
    "taxa_conversao_media = (total_compras_genero.sum() / total_usuarios) * 100\n",
    "\n",
    "\n",
    "print(f'Taxa de conversão média: {taxa_conversao_media:.2f}%')"
   ]
  },
  {
   "cell_type": "code",
   "execution_count": null,
   "id": "963d31f6",
   "metadata": {},
   "outputs": [],
   "source": [
    "import pandas as pd\n",
    "import numpy as np\n",
    "import matplotlib.pyplot as plt\n",
    "import seaborn as sns\n",
    "\n",
    "# Simulação de dados fictícios\n",
    "# Usando o DataFrame atual, sem gerar dados fictícios\n",
    "# Certifique-se de substituir 'df' pelo nome do seu DataFrame real\n",
    "total_usuarios = df['Gênero'].nunique()  # Total de usuários únicos\n",
    "total_compras = df.groupby('Gênero')['Total de Compras - Usuário'].sum()\n",
    "\n",
    "# Calcular a taxa de conversão por gênero\n",
    "taxa_conversao_genero = (total_compras / total_usuarios) * 100\n",
    "\n",
    "# Visualizar a taxa de conversão por gênero\n",
    "plt.figure(figsize=(10, 6))\n",
    "sns.barplot(x=taxa_conversao_genero.index, y=taxa_conversao_genero.values)\n",
    "plt.title('Taxa de Conversão por Gênero')\n",
    "plt.xlabel('Gênero')\n",
    "plt.ylabel('Taxa de Conversão (%)')\n",
    "plt.show()\n",
    "\n",
    "# Calcular a taxa de conversão média\n",
    "taxa_conversao_media = (total_compras.sum() / total_usuarios) * 100\n",
    "\n",
    "print(f'Taxa de conversão média: {taxa_conversao_media:.2f}%')\n"
   ]
  },
  {
   "cell_type": "code",
   "execution_count": null,
   "id": "603a3383",
   "metadata": {},
   "outputs": [],
   "source": []
  },
  {
   "cell_type": "code",
   "execution_count": null,
   "id": "60f69bc6",
   "metadata": {},
   "outputs": [],
   "source": []
  },
  {
   "cell_type": "code",
   "execution_count": null,
   "id": "28cb0124",
   "metadata": {},
   "outputs": [],
   "source": []
  }
 ],
 "metadata": {
  "kernelspec": {
   "display_name": "Python 3 (ipykernel)",
   "language": "python",
   "name": "python3"
  },
  "language_info": {
   "codemirror_mode": {
    "name": "ipython",
    "version": 3
   },
   "file_extension": ".py",
   "mimetype": "text/x-python",
   "name": "python",
   "nbconvert_exporter": "python",
   "pygments_lexer": "ipython3",
   "version": "3.11.5"
  }
 },
 "nbformat": 4,
 "nbformat_minor": 5
}
